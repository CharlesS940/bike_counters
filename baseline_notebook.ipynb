{
 "cells": [
  {
   "cell_type": "markdown",
   "metadata": {},
   "source": [
    "# Basic Feature Engineering"
   ]
  },
  {
   "cell_type": "code",
   "execution_count": 2,
   "metadata": {},
   "outputs": [],
   "source": [
    "import numpy as np\n",
    "import pandas as pd\n",
    "import matplotlib.pyplot as plt"
   ]
  },
  {
   "cell_type": "code",
   "execution_count": 5,
   "metadata": {},
   "outputs": [
    {
     "name": "stdout",
     "output_type": "stream",
     "text": [
      "{'counter_id': 56, 'counter_name': 56, 'site_id': 30, 'site_name': 30, 'bike_count': 998, 'date': 8974, 'counter_installation_date': 22, 'coordinates': 30, 'counter_technical_id': 30, 'latitude': 30, 'longitude': 30, 'log_bike_count': 998}\n"
     ]
    }
   ],
   "source": [
    "from pathlib import Path\n",
    "\n",
    "import numpy as np\n",
    "import pandas as pd\n",
    "from sklearn.preprocessing import FunctionTransformer\n",
    "from sklearn.preprocessing import OneHotEncoder\n",
    "from sklearn.preprocessing import StandardScaler\n",
    "from sklearn.pipeline import make_pipeline\n",
    "from sklearn.compose import ColumnTransformer\n",
    "from sklearn.linear_model import Ridge\n",
    "from catboost import CatBoostRegressor\n",
    "\n",
    "# defining RMSE\n",
    "def RMSE(y, y_hat):\n",
    "\n",
    "    return np.sqrt(np.mean((y-y_hat)**2))\n",
    "\n",
    "\n",
    "def _encode_dates(X):\n",
    "    X = X.copy()  # modify a copy of X\n",
    "    # Encode the date information from the DateOfDeparture columns\n",
    "    X.loc[:, \"year\"] = X[\"date\"].dt.year\n",
    "    X.loc[:, \"month\"] = X[\"date\"].dt.month\n",
    "    X.loc[:, \"day\"] = X[\"date\"].dt.day\n",
    "    X.loc[:, \"weekday\"] = X[\"date\"].dt.weekday\n",
    "    X.loc[:, \"hour\"] = X[\"date\"].dt.hour\n",
    "\n",
    "    # Finally we can drop the original columns from the dataframe\n",
    "    return X.drop(columns=[\"date\"])\n",
    "\n",
    "\n",
    "#def _merge_external_data(X):\n",
    "#    file_path = Path(__file__).parent / \"external_data.csv\"\n",
    "#    df_ext = pd.read_csv(file_path, parse_dates=[\"date\"])\n",
    "#\n",
    "#    X = X.copy()\n",
    "#    # When using merge_asof left frame need to be sorted\n",
    "#    X[\"orig_index\"] = np.arange(X.shape[0])\n",
    "#    X = pd.merge_asof(\n",
    "#        X.sort_values(\"date\"), df_ext[[\"date\", \"t\"]].sort_values(\"date\"), on=\"date\"\n",
    "#    )\n",
    "    # Sort back to the original order\n",
    "#    X = X.sort_values(\"orig_index\")\n",
    "#    del X[\"orig_index\"]\n",
    "#    return X\n",
    "\n",
    "\n",
    "def get_estimator():\n",
    "    date_encoder = FunctionTransformer(_encode_dates)\n",
    "    date_cols = [\"year\", \"month\", \"day\", \"weekday\", \"hour\"]\n",
    "\n",
    "    categorical_encoder = OneHotEncoder(handle_unknown=\"ignore\")\n",
    "    categorical_cols = [\"counter_name\", \"site_name\", \"coordinates\"]\n",
    "\n",
    "    preprocessor = ColumnTransformer(\n",
    "        [\n",
    "            (\"date\", OneHotEncoder(handle_unknown=\"ignore\"), date_cols),\n",
    "            (\"cat\", categorical_encoder, categorical_cols),\n",
    "        ]\n",
    "    )\n",
    "    regressor = CatBoostRegressor(\n",
    "        depth=11,\n",
    "        iterations=1000,\n",
    "        rsm=0.05,\n",
    "        sampling_frequency=\"PerTree\",\n",
    "        subsample=0.9,\n",
    "        verbose=0,\n",
    "    )\n",
    "\n",
    "    pipe = make_pipeline(\n",
    "        date_encoder,\n",
    "        preprocessor,\n",
    "        regressor,\n",
    "    )\n",
    "\n",
    "    return pipe\n",
    "\n",
    "data = pd.read_parquet('train.parquet')\n",
    "X_test = pd.read_parquet('final_test.parquet')\n",
    "\n",
    "y = data['log_bike_count']\n",
    "X = data[['counter_name', 'site_name', 'date', 'coordinates']]\n",
    "X_test = X_test[['counter_name', 'site_name', 'date', 'coordinates']]\n",
    "\n",
    "pipe = get_estimator()\n",
    "\n",
    "pipe.fit(X, y)\n",
    "pred = pipe.predict(X)\n",
    "\n",
    "\n",
    "\n"
   ]
  },
  {
   "cell_type": "code",
   "execution_count": null,
   "metadata": {},
   "outputs": [],
   "source": []
  }
 ],
 "metadata": {
  "kernelspec": {
   "display_name": "bike_project_venv",
   "language": "python",
   "name": "python3"
  },
  "language_info": {
   "codemirror_mode": {
    "name": "ipython",
    "version": 3
   },
   "file_extension": ".py",
   "mimetype": "text/x-python",
   "name": "python",
   "nbconvert_exporter": "python",
   "pygments_lexer": "ipython3",
   "version": "3.12.0"
  }
 },
 "nbformat": 4,
 "nbformat_minor": 2
}

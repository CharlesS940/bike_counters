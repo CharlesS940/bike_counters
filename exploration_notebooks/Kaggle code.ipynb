{
 "cells": [
  {
   "cell_type": "code",
   "execution_count": 1,
   "id": "147aa9a3",
   "metadata": {},
   "outputs": [],
   "source": [
    "import pandas as pd\n",
    "import numpy as np\n",
    "import matplotlib.pyplot as plt\n",
    "import folium\n",
    "import seaborn as sns\n",
    "from astral.sun import sun\n",
    "from astral import LocationInfo\n",
    "import pytz\n",
    "import holidays\n",
    "\n",
    "plt.style.use('ggplot')\n",
    "\n",
    "from xgboost import XGBRegressor\n",
    "from sklearn.metrics import mean_squared_error\n",
    "from sklearn.linear_model import LinearRegression\n",
    "from sklearn.model_selection import train_test_split\n",
    "from sklearn.preprocessing import OneHotEncoder, LabelEncoder, StandardScaler\n",
    "import category_encoders as ce\n",
    "from sklearn.ensemble import RandomForestRegressor\n",
    "import catboost as cb\n",
    "import xgboost as xgb"
   ]
  },
  {
   "cell_type": "markdown",
   "id": "c41bea56",
   "metadata": {},
   "source": [
    "# Loading the dataset"
   ]
  },
  {
   "cell_type": "code",
   "execution_count": 2,
   "id": "65dfa4c9",
   "metadata": {},
   "outputs": [],
   "source": [
    "df = pd.read_parquet('train.parquet')"
   ]
  },
  {
   "cell_type": "markdown",
   "id": "898841dd",
   "metadata": {},
   "source": [
    "There are no duplicates and no NaNs."
   ]
  },
  {
   "cell_type": "code",
   "execution_count": 4,
   "id": "eca0036c",
   "metadata": {},
   "outputs": [
    {
     "name": "stdout",
     "output_type": "stream",
     "text": [
      "Minimum date: 2020-09-01 01:00:00\n",
      "Maximum date: 2021-09-09 23:00:00\n"
     ]
    }
   ],
   "source": [
    "min_date = df['date'].min()\n",
    "max_date = df['date'].max()\n",
    "\n",
    "print(f\"Minimum date: {min_date}\")\n",
    "print(f\"Maximum date: {max_date}\")"
   ]
  },
  {
   "cell_type": "markdown",
   "id": "0ffa01f0",
   "metadata": {},
   "source": [
    "## Converting to_datetime"
   ]
  },
  {
   "cell_type": "code",
   "execution_count": 8,
   "id": "bce80092",
   "metadata": {},
   "outputs": [],
   "source": [
    "df['date'] = pd.to_datetime(df['date'])\n",
    "\n",
    "# Extracting Year, Month, Day of Month, Weekday, and Hour into separate columns\n",
    "df['Year'] = df['date'].dt.year\n",
    "df['Month'] = df['date'].dt.month\n",
    "df['Day'] = df['date'].dt.day\n",
    "df['Weekday'] = df['date'].dt.weekday  # Monday=0, Sunday=6\n",
    "df['Is_weekend'] = df['date'].dt.weekday // 5  # 1 if weekend, 0 if weekday\n",
    "df['Hour'] = df['date'].dt.hour"
   ]
  },
  {
   "cell_type": "code",
   "execution_count": 9,
   "id": "4a5c1caf",
   "metadata": {},
   "outputs": [
    {
     "data": {
      "text/plain": [
       "48321    100007049-102007049\n",
       "48324    100007049-102007049\n",
       "48327    100007049-102007049\n",
       "48330    100007049-102007049\n",
       "48333    100007049-102007049\n",
       "Name: counter_id, dtype: category\n",
       "Categories (56, object): ['100007049-101007049', '100007049-102007049', '100036718-103036718', '100036718-104036718', ..., '100063175-353277233', '100063175-353277235', '300014702-353245971', '300014702-353245972']"
      ]
     },
     "execution_count": 9,
     "metadata": {},
     "output_type": "execute_result"
    }
   ],
   "source": [
    "df['counter_id'].head()"
   ]
  },
  {
   "cell_type": "code",
   "execution_count": 15,
   "id": "7b575d69",
   "metadata": {},
   "outputs": [
    {
     "data": {
      "text/plain": [
       "counter_id                     56\n",
       "counter_name                   56\n",
       "site_id                        30\n",
       "site_name                      30\n",
       "bike_count                    998\n",
       "date                         8974\n",
       "counter_installation_date      22\n",
       "coordinates                    30\n",
       "counter_technical_id           30\n",
       "latitude                       30\n",
       "longitude                      30\n",
       "log_bike_count                998\n",
       "Year                            2\n",
       "Month                          12\n",
       "Day                            31\n",
       "Weekday                         7\n",
       "Is_weekend                      2\n",
       "Hour                           24\n",
       "sunlight                        2\n",
       "season                          4\n",
       "is_holiday                      2\n",
       "is_lockdown                     2\n",
       "dtype: int64"
      ]
     },
     "execution_count": 15,
     "metadata": {},
     "output_type": "execute_result"
    }
   ],
   "source": [
    "df.nunique()"
   ]
  },
  {
   "cell_type": "code",
   "execution_count": 46,
   "id": "2869b805",
   "metadata": {},
   "outputs": [
    {
     "data": {
      "text/html": [
       "<div>\n",
       "<style scoped>\n",
       "    .dataframe tbody tr th:only-of-type {\n",
       "        vertical-align: middle;\n",
       "    }\n",
       "\n",
       "    .dataframe tbody tr th {\n",
       "        vertical-align: top;\n",
       "    }\n",
       "\n",
       "    .dataframe thead th {\n",
       "        text-align: right;\n",
       "    }\n",
       "</style>\n",
       "<table border=\"1\" class=\"dataframe\">\n",
       "  <thead>\n",
       "    <tr style=\"text-align: right;\">\n",
       "      <th></th>\n",
       "      <th>site_id</th>\n",
       "      <th>bike_count</th>\n",
       "      <th>latitude</th>\n",
       "      <th>longitude</th>\n",
       "      <th>log_bike_count</th>\n",
       "    </tr>\n",
       "  </thead>\n",
       "  <tbody>\n",
       "    <tr>\n",
       "      <th>count</th>\n",
       "      <td>4.968270e+05</td>\n",
       "      <td>496827.000000</td>\n",
       "      <td>496827.000000</td>\n",
       "      <td>496827.000000</td>\n",
       "      <td>496827.000000</td>\n",
       "    </tr>\n",
       "    <tr>\n",
       "      <th>mean</th>\n",
       "      <td>1.053450e+08</td>\n",
       "      <td>60.191475</td>\n",
       "      <td>48.854343</td>\n",
       "      <td>2.345479</td>\n",
       "      <td>3.079917</td>\n",
       "    </tr>\n",
       "    <tr>\n",
       "      <th>std</th>\n",
       "      <td>3.210346e+07</td>\n",
       "      <td>87.590566</td>\n",
       "      <td>0.018554</td>\n",
       "      <td>0.038026</td>\n",
       "      <td>1.659899</td>\n",
       "    </tr>\n",
       "    <tr>\n",
       "      <th>min</th>\n",
       "      <td>1.000070e+08</td>\n",
       "      <td>0.000000</td>\n",
       "      <td>48.826360</td>\n",
       "      <td>2.265420</td>\n",
       "      <td>0.000000</td>\n",
       "    </tr>\n",
       "    <tr>\n",
       "      <th>25%</th>\n",
       "      <td>1.000475e+08</td>\n",
       "      <td>5.000000</td>\n",
       "      <td>48.840801</td>\n",
       "      <td>2.314440</td>\n",
       "      <td>1.791759</td>\n",
       "    </tr>\n",
       "    <tr>\n",
       "      <th>50%</th>\n",
       "      <td>1.000562e+08</td>\n",
       "      <td>29.000000</td>\n",
       "      <td>48.852090</td>\n",
       "      <td>2.353870</td>\n",
       "      <td>3.401197</td>\n",
       "    </tr>\n",
       "    <tr>\n",
       "      <th>75%</th>\n",
       "      <td>1.000563e+08</td>\n",
       "      <td>79.000000</td>\n",
       "      <td>48.864610</td>\n",
       "      <td>2.375870</td>\n",
       "      <td>4.382027</td>\n",
       "    </tr>\n",
       "    <tr>\n",
       "      <th>max</th>\n",
       "      <td>3.000147e+08</td>\n",
       "      <td>1302.000000</td>\n",
       "      <td>48.891720</td>\n",
       "      <td>2.409690</td>\n",
       "      <td>7.172425</td>\n",
       "    </tr>\n",
       "  </tbody>\n",
       "</table>\n",
       "</div>"
      ],
      "text/plain": [
       "            site_id     bike_count       latitude      longitude  \\\n",
       "count  4.968270e+05  496827.000000  496827.000000  496827.000000   \n",
       "mean   1.053450e+08      60.191475      48.854343       2.345479   \n",
       "std    3.210346e+07      87.590566       0.018554       0.038026   \n",
       "min    1.000070e+08       0.000000      48.826360       2.265420   \n",
       "25%    1.000475e+08       5.000000      48.840801       2.314440   \n",
       "50%    1.000562e+08      29.000000      48.852090       2.353870   \n",
       "75%    1.000563e+08      79.000000      48.864610       2.375870   \n",
       "max    3.000147e+08    1302.000000      48.891720       2.409690   \n",
       "\n",
       "       log_bike_count  \n",
       "count   496827.000000  \n",
       "mean         3.079917  \n",
       "std          1.659899  \n",
       "min          0.000000  \n",
       "25%          1.791759  \n",
       "50%          3.401197  \n",
       "75%          4.382027  \n",
       "max          7.172425  "
      ]
     },
     "execution_count": 46,
     "metadata": {},
     "output_type": "execute_result"
    }
   ],
   "source": [
    "df[num_col].describe()"
   ]
  },
  {
   "cell_type": "markdown",
   "id": "6ea1132a",
   "metadata": {},
   "source": [
    "## Adding a 'sunlight' column"
   ]
  },
  {
   "cell_type": "code",
   "execution_count": 10,
   "id": "10d93283",
   "metadata": {},
   "outputs": [],
   "source": [
    "df['date'] = pd.to_datetime(df['date'])\n",
    "\n",
    "# Define the location (Paris, for example)\n",
    "city = LocationInfo(\"Paris\", \"France\", \"Europe/Paris\")\n",
    "tz = pytz.timezone(city.timezone)\n",
    "\n",
    "# Function to determine sunlight based on sunrise and sunset times\n",
    "def is_daytime(date):\n",
    "    date = date.replace(tzinfo=tz)  # Make the date timezone-aware\n",
    "    s = sun(city.observer, date=date)\n",
    "    sunrise = s['sunrise'].astimezone(tz)\n",
    "    sunset = s['sunset'].astimezone(tz)\n",
    "    return sunrise < date < sunset\n",
    "\n",
    "# Apply the function to create a 'sunlight' column\n",
    "df['sunlight'] = df['date'].apply(is_daytime).astype(int)"
   ]
  },
  {
   "cell_type": "markdown",
   "id": "663cdc35",
   "metadata": {},
   "source": [
    "## Adding 'season' and 'is_holiday'"
   ]
  },
  {
   "cell_type": "code",
   "execution_count": 11,
   "id": "b1a35c7d",
   "metadata": {},
   "outputs": [],
   "source": [
    "df['date'] = pd.to_datetime(df['date'])\n",
    "\n",
    "# Function to determine the season based on month\n",
    "def get_season(month):\n",
    "    if month in range(3, 6):  # Spring: March - May\n",
    "        return 'Spring'\n",
    "    elif month in range(6, 9):  # Summer: June - August\n",
    "        return 'Summer'\n",
    "    elif month in range(9, 12):  # Autumn: September - November\n",
    "        return 'Autumn'\n",
    "    else:  # Winter: December - February\n",
    "        return 'Winter'\n",
    "\n",
    "# Define holidays for a specific country (France in this example)\n",
    "fr_holidays = holidays.France()\n",
    "\n",
    "# Function to check if a date is a holiday\n",
    "def is_holiday(date):\n",
    "    return date in fr_holidays\n",
    "\n",
    "# Apply the functions to create 'season' and 'is_holiday' columns\n",
    "df['season'] = df['date'].dt.month.apply(get_season)\n",
    "df['is_holiday'] = df['date'].apply(is_holiday).astype(int)"
   ]
  },
  {
   "cell_type": "code",
   "execution_count": 12,
   "id": "7071c491",
   "metadata": {},
   "outputs": [
    {
     "name": "stdout",
     "output_type": "stream",
     "text": [
      "The data spans from 2020-09-01 01:00:00 to 2021-09-09 23:00:00\n"
     ]
    }
   ],
   "source": [
    "df['date'] = pd.to_datetime(df['date'])\n",
    "\n",
    "# Get the first and last date in the DataFrame\n",
    "first_date = df['date'].min()\n",
    "last_date = df['date'].max()\n",
    "\n",
    "print(f\"The data spans from {first_date} to {last_date}\")"
   ]
  },
  {
   "cell_type": "markdown",
   "id": "b789556e",
   "metadata": {},
   "source": [
    "## Adding lockdown"
   ]
  },
  {
   "cell_type": "code",
   "execution_count": 14,
   "id": "dc492d54",
   "metadata": {},
   "outputs": [],
   "source": [
    "df['date'] = pd.to_datetime(df['date'])\n",
    "\n",
    "# Define the periods of curfew and lockdown\n",
    "curfew_periods = [\n",
    "    ('2020-10-17', '2020-10-29', '21:00', '06:00'),\n",
    "    ('2020-10-30', '2020-12-15', '00:00', '23:59'),\n",
    "    ('2020-12-15', '2021-05-19', '18:00', '06:00'),\n",
    "    ('2021-05-19', '2021-06-20', '21:00', '06:00')\n",
    "]\n",
    "\n",
    "# Create a function to check if a date is within a curfew period\n",
    "def is_within_curfew(date):\n",
    "    for start, end, start_time, end_time in curfew_periods:\n",
    "        start = pd.to_datetime(start)\n",
    "        end = pd.to_datetime(end)\n",
    "        start_time = pd.to_datetime(start_time).time()\n",
    "        end_time = pd.to_datetime(end_time).time()\n",
    "\n",
    "        if start <= date <= end:\n",
    "            if start.time() == end.time():\n",
    "                return date.time() >= start_time or date.time() <= end_time\n",
    "            else:\n",
    "                return start_time <= date.time() <= end_time\n",
    "    return False\n",
    "\n",
    "# Apply the function to create 'is_lockdown' column\n",
    "df['is_lockdown'] = df['date'].apply(is_within_curfew).astype(int)"
   ]
  },
  {
   "cell_type": "code",
   "execution_count": 16,
   "id": "0f30aff5",
   "metadata": {},
   "outputs": [],
   "source": [
    "def encode(df, col, max_val):\n",
    "    \n",
    "    df[col + '_sin'] = np.sin(2 * np.pi * df[col]/max_val)\n",
    "    df[col + '_cos'] = np.cos (2 * np.pi * df[col]/max_val)\n",
    "    return df\n",
    "                                                                                          \n",
    "df = encode(df, 'Hour', 23)\n",
    "# df = encode(df, 'Month', 12)\n",
    "# df = encode(df, 'Day', 31)\n",
    "#df = encode(df, 'Weekday', 6)\n",
    "# df = encode(df, 'Is_weekend', 1)\n",
    "# df = encode(df, 'sunlight', 1)"
   ]
  },
  {
   "cell_type": "code",
   "execution_count": 17,
   "id": "625d06e5",
   "metadata": {},
   "outputs": [
    {
     "data": {
      "image/png": "[encoded data removed]",
      "text/plain": [
       "<Figure size 800x600 with 2 Axes>"
      ]
     },
     "metadata": {},
     "output_type": "display_data"
    }
   ],
   "source": [
    "bike_count_lockdown = df[(df['sunlight'] == 1) & (df['is_lockdown'] == 1)]['bike_count']\n",
    "bike_count_no_lockdown = df[(df['sunlight'] == 1) & (df['is_lockdown'] == 0)]['bike_count']\n",
    "\n",
    "# Create box plots for bike count during sunlight with and without lockdown\n",
    "plt.figure(figsize=(8, 6))\n",
    "plt.subplot(1, 2, 1)\n",
    "sns.boxplot(y=bike_count_lockdown)\n",
    "plt.title('Bike Count During Sunlight (Lockdown)')\n",
    "plt.ylabel('Bike Count')\n",
    "\n",
    "plt.subplot(1, 2, 2)\n",
    "sns.boxplot(y=bike_count_no_lockdown)\n",
    "plt.title('Bike Count During Sunlight (No Lockdown)')\n",
    "plt.ylabel('Bike Count')\n",
    "\n",
    "plt.tight_layout()\n",
    "plt.show()"
   ]
  },
  {
   "cell_type": "code",
   "execution_count": 49,
   "id": "d156dbc9",
   "metadata": {},
   "outputs": [
    {
     "data": {
      "image/png": "[encoded data removed]",
      "text/plain": [
       "<Figure size 800x400 with 1 Axes>"
      ]
     },
     "metadata": {},
     "output_type": "display_data"
    }
   ],
   "source": [
    "bike_count_sunlight = df[df['sunlight'] == 1]\n",
    "\n",
    "# Calculate total bike count for each month during sunlight\n",
    "monthly_counts = bike_count_sunlight.groupby('Month')['bike_count'].sum()\n",
    "\n",
    "# Create a bar plot for total bike count per month during sunlight\n",
    "plt.figure(figsize=(8, 4))\n",
    "plt.bar(monthly_counts.index, monthly_counts.values)\n",
    "plt.xlabel('Month')\n",
    "plt.ylabel('Total Bike Count')\n",
    "\n",
    "plt.xticks(range(1, 13))  # Setting x-ticks to correspond to months\n",
    "plt.show()\n"
   ]
  },
  {
   "cell_type": "code",
   "execution_count": 22,
   "id": "534440e9",
   "metadata": {},
   "outputs": [
    {
     "data": {
      "image/png": "[encoded data removed]",
      "text/plain": [
       "<Figure size 800x600 with 1 Axes>"
      ]
     },
     "metadata": {},
     "output_type": "display_data"
    }
   ],
   "source": [
    "monthly_counts = df.groupby('Month')['bike_count'].sum()\n",
    "\n",
    "# Plotting the bike count for each month\n",
    "plt.figure(figsize=(8, 6))\n",
    "monthly_counts.plot(kind='bar', color='skyblue')\n",
    "plt.xlabel('Month')\n",
    "plt.ylabel('Bike Count')\n",
    "plt.title('Bike Count for Each Month')\n",
    "plt.xticks(rotation=0)  # Ensure proper rotation of x-axis labels\n",
    "plt.show()"
   ]
  },
  {
   "cell_type": "code",
   "execution_count": 27,
   "id": "4603c046",
   "metadata": {},
   "outputs": [
    {
     "data": {
      "image/png": "[encoded data removed]",
      "text/plain": [
       "<Figure size 900x500 with 1 Axes>"
      ]
     },
     "metadata": {},
     "output_type": "display_data"
    }
   ],
   "source": [
    "lockdown_sunlight = df[(df['sunlight'] == 1) & (df['is_lockdown'] == 1)].count()['bike_count']\n",
    "no_lockdown_sunlight = df[(df['sunlight'] == 1) & (df['is_lockdown'] == 0)].count()['bike_count']\n",
    "lockdown_allday = df[df['is_lockdown'] == 1].count()['bike_count']\n",
    "no_lockdown_allday = df[df['is_lockdown'] == 0].count()['bike_count']\n",
    "\n",
    "# Creating lists for categories and their corresponding counts\n",
    "categories = ['Lockdown sunlight', 'No Lockdown sunlight', 'Lockdown all day', 'No Lockdown all day']\n",
    "counts = [lockdown_sunlight, no_lockdown_sunlight, lockdown_allday, no_lockdown_allday]\n",
    "\n",
    "# Creating a bar plot\n",
    "plt.figure(figsize=(9, 5))\n",
    "plt.bar(categories, counts, color=['blue', 'green', 'orange', 'red'])\n",
    "plt.ylabel('Total Bike Count')\n",
    "plt.title('Total Bike Count During Lockdown or not')\n",
    "plt.show()\n"
   ]
  },
  {
   "cell_type": "code",
   "execution_count": 31,
   "id": "5629f9d0",
   "metadata": {},
   "outputs": [
    {
     "data": {
      "text/html": [
       "<div>\n",
       "<style scoped>\n",
       "    .dataframe tbody tr th:only-of-type {\n",
       "        vertical-align: middle;\n",
       "    }\n",
       "\n",
       "    .dataframe tbody tr th {\n",
       "        vertical-align: top;\n",
       "    }\n",
       "\n",
       "    .dataframe thead th {\n",
       "        text-align: right;\n",
       "    }\n",
       "</style>\n",
       "<table border=\"1\" class=\"dataframe\">\n",
       "  <thead>\n",
       "    <tr style=\"text-align: right;\">\n",
       "      <th></th>\n",
       "      <th>counter_id</th>\n",
       "      <th>counter_name</th>\n",
       "      <th>site_id</th>\n",
       "      <th>site_name</th>\n",
       "      <th>bike_count</th>\n",
       "      <th>date</th>\n",
       "      <th>counter_installation_date</th>\n",
       "      <th>coordinates</th>\n",
       "      <th>counter_technical_id</th>\n",
       "      <th>latitude</th>\n",
       "      <th>...</th>\n",
       "      <th>Day</th>\n",
       "      <th>Weekday</th>\n",
       "      <th>Is_weekend</th>\n",
       "      <th>Hour</th>\n",
       "      <th>sunlight</th>\n",
       "      <th>season</th>\n",
       "      <th>is_holiday</th>\n",
       "      <th>is_lockdown</th>\n",
       "      <th>Hour_sin</th>\n",
       "      <th>Hour_cos</th>\n",
       "    </tr>\n",
       "  </thead>\n",
       "  <tbody>\n",
       "    <tr>\n",
       "      <th>48321</th>\n",
       "      <td>100007049-102007049</td>\n",
       "      <td>28 boulevard Diderot E-O</td>\n",
       "      <td>100007049</td>\n",
       "      <td>28 boulevard Diderot</td>\n",
       "      <td>0.0</td>\n",
       "      <td>2020-09-01 02:00:00</td>\n",
       "      <td>2013-01-18</td>\n",
       "      <td>48.846028,2.375429</td>\n",
       "      <td>Y2H15027244</td>\n",
       "      <td>48.846028</td>\n",
       "      <td>...</td>\n",
       "      <td>1</td>\n",
       "      <td>1</td>\n",
       "      <td>0</td>\n",
       "      <td>2</td>\n",
       "      <td>0</td>\n",
       "      <td>Autumn</td>\n",
       "      <td>0</td>\n",
       "      <td>0</td>\n",
       "      <td>0.519584</td>\n",
       "      <td>0.854419</td>\n",
       "    </tr>\n",
       "    <tr>\n",
       "      <th>48324</th>\n",
       "      <td>100007049-102007049</td>\n",
       "      <td>28 boulevard Diderot E-O</td>\n",
       "      <td>100007049</td>\n",
       "      <td>28 boulevard Diderot</td>\n",
       "      <td>1.0</td>\n",
       "      <td>2020-09-01 03:00:00</td>\n",
       "      <td>2013-01-18</td>\n",
       "      <td>48.846028,2.375429</td>\n",
       "      <td>Y2H15027244</td>\n",
       "      <td>48.846028</td>\n",
       "      <td>...</td>\n",
       "      <td>1</td>\n",
       "      <td>1</td>\n",
       "      <td>0</td>\n",
       "      <td>3</td>\n",
       "      <td>0</td>\n",
       "      <td>Autumn</td>\n",
       "      <td>0</td>\n",
       "      <td>0</td>\n",
       "      <td>0.730836</td>\n",
       "      <td>0.682553</td>\n",
       "    </tr>\n",
       "    <tr>\n",
       "      <th>48327</th>\n",
       "      <td>100007049-102007049</td>\n",
       "      <td>28 boulevard Diderot E-O</td>\n",
       "      <td>100007049</td>\n",
       "      <td>28 boulevard Diderot</td>\n",
       "      <td>0.0</td>\n",
       "      <td>2020-09-01 04:00:00</td>\n",
       "      <td>2013-01-18</td>\n",
       "      <td>48.846028,2.375429</td>\n",
       "      <td>Y2H15027244</td>\n",
       "      <td>48.846028</td>\n",
       "      <td>...</td>\n",
       "      <td>1</td>\n",
       "      <td>1</td>\n",
       "      <td>0</td>\n",
       "      <td>4</td>\n",
       "      <td>0</td>\n",
       "      <td>Autumn</td>\n",
       "      <td>0</td>\n",
       "      <td>0</td>\n",
       "      <td>0.887885</td>\n",
       "      <td>0.460065</td>\n",
       "    </tr>\n",
       "    <tr>\n",
       "      <th>48330</th>\n",
       "      <td>100007049-102007049</td>\n",
       "      <td>28 boulevard Diderot E-O</td>\n",
       "      <td>100007049</td>\n",
       "      <td>28 boulevard Diderot</td>\n",
       "      <td>4.0</td>\n",
       "      <td>2020-09-01 15:00:00</td>\n",
       "      <td>2013-01-18</td>\n",
       "      <td>48.846028,2.375429</td>\n",
       "      <td>Y2H15027244</td>\n",
       "      <td>48.846028</td>\n",
       "      <td>...</td>\n",
       "      <td>1</td>\n",
       "      <td>1</td>\n",
       "      <td>0</td>\n",
       "      <td>15</td>\n",
       "      <td>1</td>\n",
       "      <td>Autumn</td>\n",
       "      <td>0</td>\n",
       "      <td>0</td>\n",
       "      <td>-0.816970</td>\n",
       "      <td>-0.576680</td>\n",
       "    </tr>\n",
       "    <tr>\n",
       "      <th>48333</th>\n",
       "      <td>100007049-102007049</td>\n",
       "      <td>28 boulevard Diderot E-O</td>\n",
       "      <td>100007049</td>\n",
       "      <td>28 boulevard Diderot</td>\n",
       "      <td>9.0</td>\n",
       "      <td>2020-09-01 18:00:00</td>\n",
       "      <td>2013-01-18</td>\n",
       "      <td>48.846028,2.375429</td>\n",
       "      <td>Y2H15027244</td>\n",
       "      <td>48.846028</td>\n",
       "      <td>...</td>\n",
       "      <td>1</td>\n",
       "      <td>1</td>\n",
       "      <td>0</td>\n",
       "      <td>18</td>\n",
       "      <td>1</td>\n",
       "      <td>Autumn</td>\n",
       "      <td>0</td>\n",
       "      <td>0</td>\n",
       "      <td>-0.979084</td>\n",
       "      <td>0.203456</td>\n",
       "    </tr>\n",
       "  </tbody>\n",
       "</table>\n",
       "<p>5 rows × 24 columns</p>\n",
       "</div>"
      ],
      "text/plain": [
       "                counter_id              counter_name    site_id  \\\n",
       "48321  100007049-102007049  28 boulevard Diderot E-O  100007049   \n",
       "48324  100007049-102007049  28 boulevard Diderot E-O  100007049   \n",
       "48327  100007049-102007049  28 boulevard Diderot E-O  100007049   \n",
       "48330  100007049-102007049  28 boulevard Diderot E-O  100007049   \n",
       "48333  100007049-102007049  28 boulevard Diderot E-O  100007049   \n",
       "\n",
       "                  site_name  bike_count                date  \\\n",
       "48321  28 boulevard Diderot         0.0 2020-09-01 02:00:00   \n",
       "48324  28 boulevard Diderot         1.0 2020-09-01 03:00:00   \n",
       "48327  28 boulevard Diderot         0.0 2020-09-01 04:00:00   \n",
       "48330  28 boulevard Diderot         4.0 2020-09-01 15:00:00   \n",
       "48333  28 boulevard Diderot         9.0 2020-09-01 18:00:00   \n",
       "\n",
       "      counter_installation_date         coordinates counter_technical_id  \\\n",
       "48321                2013-01-18  48.846028,2.375429          Y2H15027244   \n",
       "48324                2013-01-18  48.846028,2.375429          Y2H15027244   \n",
       "48327                2013-01-18  48.846028,2.375429          Y2H15027244   \n",
       "48330                2013-01-18  48.846028,2.375429          Y2H15027244   \n",
       "48333                2013-01-18  48.846028,2.375429          Y2H15027244   \n",
       "\n",
       "        latitude  ...  Day  Weekday  Is_weekend  Hour  sunlight  season  \\\n",
       "48321  48.846028  ...    1        1           0     2         0  Autumn   \n",
       "48324  48.846028  ...    1        1           0     3         0  Autumn   \n",
       "48327  48.846028  ...    1        1           0     4         0  Autumn   \n",
       "48330  48.846028  ...    1        1           0    15         1  Autumn   \n",
       "48333  48.846028  ...    1        1           0    18         1  Autumn   \n",
       "\n",
       "       is_holiday  is_lockdown  Hour_sin  Hour_cos  \n",
       "48321           0            0  0.519584  0.854419  \n",
       "48324           0            0  0.730836  0.682553  \n",
       "48327           0            0  0.887885  0.460065  \n",
       "48330           0            0 -0.816970 -0.576680  \n",
       "48333           0            0 -0.979084  0.203456  \n",
       "\n",
       "[5 rows x 24 columns]"
      ]
     },
     "execution_count": 31,
     "metadata": {},
     "output_type": "execute_result"
    }
   ],
   "source": [
    "df.head()"
   ]
  },
  {
   "cell_type": "code",
   "execution_count": 37,
   "id": "9c0895cb",
   "metadata": {},
   "outputs": [
    {
     "data": {
      "image/png": "[encoded data removed]",
      "text/plain": [
       "<Figure size 700x400 with 1 Axes>"
      ]
     },
     "metadata": {},
     "output_type": "display_data"
    }
   ],
   "source": [
    "# Filtering the DataFrame for different categories\n",
    "is_weekend_1 = df[df['Is_weekend'] == 1]['bike_count'].sum()\n",
    "is_weekend_0 = df[df['Is_weekend'] == 0]['bike_count'].sum()\n",
    "is_holiday_1 = df[df['is_holiday'] == 1]['bike_count'].sum()\n",
    "is_holiday_0 = df[df['is_holiday'] == 0]['bike_count'].sum()\n",
    "\n",
    "# Plotting the totals in a bar chart\n",
    "plt.figure(figsize=(7, 4))\n",
    "\n",
    "# Create bar plot\n",
    "categories = ['Week-ends', 'Weekdays', 'Holidays', 'Not Holidays']\n",
    "values = [is_weekend_1, is_weekend_0, is_holiday_1, is_holiday_0]\n",
    "plt.bar(categories, values, color=['skyblue', 'salmon', 'lightgreen', 'orange'])\n",
    "\n",
    "# Set labels and title\n",
    "plt.ylabel('Total Bike Count')\n",
    "plt.title('Total Bike Count during Weekends and Weekdays, Holidays or not')\n",
    "\n",
    "plt.tight_layout()\n",
    "plt.show()"
   ]
  },
  {
   "cell_type": "code",
   "execution_count": 35,
   "id": "9f351548",
   "metadata": {},
   "outputs": [
    {
     "data": {
      "image/png": "[encoded data removed]",
      "text/plain": [
       "<Figure size 800x600 with 1 Axes>"
      ]
     },
     "metadata": {},
     "output_type": "display_data"
    }
   ],
   "source": [
    "is_weekend_1_lockdown = df[(df['Is_weekend'] == 1) & (df['is_lockdown'] == 0)]['bike_count'].sum()\n",
    "is_weekend_0_lockdown = df[(df['Is_weekend'] == 0) & (df['is_lockdown'] == 0)]['bike_count'].sum()\n",
    "is_holiday_1_lockdown = df[(df['is_holiday'] == 1) & (df['is_lockdown'] == 0)]['bike_count'].sum()\n",
    "is_holiday_0_lockdown = df[(df['is_holiday'] == 0) & (df['is_lockdown'] == 0)]['bike_count'].sum()\n",
    "\n",
    "# Plotting the totals in a bar chart\n",
    "plt.figure(figsize=(8, 6))\n",
    "\n",
    "# Create bar plot\n",
    "categories = ['Is Weekend = 1', 'Is Weekend = 0', 'Is Holiday = 1', 'Is Holiday = 0']\n",
    "values_lockdown = [is_weekend_1_lockdown, is_weekend_0_lockdown, is_holiday_1_lockdown, is_holiday_0_lockdown]\n",
    "plt.bar(categories, values_lockdown, color=['skyblue', 'salmon', 'lightgreen', 'orange'])\n",
    "\n",
    "# Set labels and title\n",
    "plt.xlabel('Category')\n",
    "plt.ylabel('Total Bike Count (During Lockdown)')\n",
    "plt.title('Total Bike Count for Different Categories During Lockdown')\n",
    "\n",
    "plt.tight_layout()\n",
    "plt.show()"
   ]
  },
  {
   "cell_type": "code",
   "execution_count": 48,
   "id": "c475b151",
   "metadata": {},
   "outputs": [
    {
     "data": {
      "image/png": "[encoded data removed]",
      "text/plain": [
       "<Figure size 800x600 with 1 Axes>"
      ]
     },
     "metadata": {},
     "output_type": "display_data"
    }
   ],
   "source": [
    "daily_counts = df.groupby('Day')['bike_count'].sum()\n",
    "\n",
    "# Plotting the bike count for each month\n",
    "plt.figure(figsize=(8, 6))\n",
    "daily_counts.plot(kind='bar', color='skyblue')\n",
    "plt.xlabel('Day')\n",
    "plt.ylabel('Bike Count')\n",
    "plt.title('Bike Count for Each Month')\n",
    "plt.xticks(rotation=0)  # Ensure proper rotation of x-axis labels\n",
    "plt.show()"
   ]
  },
  {
   "cell_type": "code",
   "execution_count": 39,
   "id": "278728c7",
   "metadata": {},
   "outputs": [
    {
     "name": "stdout",
     "output_type": "stream",
     "text": [
      "<class 'pandas.core.frame.DataFrame'>\n",
      "Index: 496827 entries, 48321 to 929187\n",
      "Data columns (total 24 columns):\n",
      " #   Column                     Non-Null Count   Dtype         \n",
      "---  ------                     --------------   -----         \n",
      " 0   counter_id                 496827 non-null  category      \n",
      " 1   counter_name               496827 non-null  category      \n",
      " 2   site_id                    496827 non-null  int64         \n",
      " 3   site_name                  496827 non-null  category      \n",
      " 4   bike_count                 496827 non-null  float64       \n",
      " 5   date                       496827 non-null  datetime64[ns]\n",
      " 6   counter_installation_date  496827 non-null  datetime64[ns]\n",
      " 7   coordinates                496827 non-null  category      \n",
      " 8   counter_technical_id       496827 non-null  category      \n",
      " 9   latitude                   496827 non-null  float64       \n",
      " 10  longitude                  496827 non-null  float64       \n",
      " 11  log_bike_count             496827 non-null  float64       \n",
      " 12  Year                       496827 non-null  int32         \n",
      " 13  Month                      496827 non-null  int32         \n",
      " 14  Day                        496827 non-null  int32         \n",
      " 15  Weekday                    496827 non-null  int32         \n",
      " 16  Is_weekend                 496827 non-null  int32         \n",
      " 17  Hour                       496827 non-null  int32         \n",
      " 18  sunlight                   496827 non-null  int64         \n",
      " 19  season                     496827 non-null  object        \n",
      " 20  is_holiday                 496827 non-null  int64         \n",
      " 21  is_lockdown                496827 non-null  int64         \n",
      " 22  Hour_sin                   496827 non-null  float64       \n",
      " 23  Hour_cos                   496827 non-null  float64       \n",
      "dtypes: category(5), datetime64[ns](2), float64(6), int32(6), int64(4), object(1)\n",
      "memory usage: 66.8+ MB\n"
     ]
    }
   ],
   "source": [
    "df.info()"
   ]
  },
  {
   "cell_type": "code",
   "execution_count": 40,
   "id": "03f6ed1d",
   "metadata": {},
   "outputs": [],
   "source": [
    "num_col = ['site_id', 'bike_count', 'latitude', 'longitude', 'log_bike_count']"
   ]
  },
  {
   "cell_type": "code",
   "execution_count": 44,
   "id": "0acf2f02",
   "metadata": {},
   "outputs": [
    {
     "data": {
      "image/png": "[encoded data removed]",
      "text/plain": [
       "<Figure size 500x300 with 2 Axes>"
      ]
     },
     "metadata": {},
     "output_type": "display_data"
    }
   ],
   "source": [
    "correlation_matrix = df[num_col].corr()\n",
    "\n",
    "# Set up the matplotlib figure\n",
    "plt.figure(figsize=(5, 3))\n",
    "\n",
    "# Create a heatmap\n",
    "sns.heatmap(correlation_matrix, annot=True, cmap='coolwarm', fmt='.2f', annot_kws={\"size\": 10})\n",
    "\n",
    "# Set the title\n",
    "plt.title('Correlation Matrix')\n",
    "\n",
    "# Show the plot\n",
    "plt.show()"
   ]
  },
  {
   "cell_type": "code",
   "execution_count": 58,
   "id": "7934c5e7",
   "metadata": {},
   "outputs": [
    {
     "data": {
      "image/png": "[encoded data removed]",
      "text/plain": [
       "<Figure size 800x600 with 1 Axes>"
      ]
     },
     "metadata": {},
     "output_type": "display_data"
    }
   ],
   "source": [
    "models = ['Ridge', 'Catboost', 'XGBoost']\n",
    "rmse_values = [0.8884, 0.6501, 0.7412]\n",
    "\n",
    "plt.figure(figsize=(8, 6))\n",
    "plt.bar(models, rmse_values, color=['blue', 'yellow', 'red'])\n",
    "plt.xlabel('Models')\n",
    "plt.ylabel('RMSE')\n",
    "plt.title('RMSE Comparison')\n",
    "plt.ylim(0, 1)  # Set appropriate y-axis limits\n",
    "plt.show()"
   ]
  },
  {
   "cell_type": "markdown",
   "id": "03244f68",
   "metadata": {},
   "source": [
    "There is one counter (counter_id = 300014702-353245972) that was installed after the beginning of the dataset (counter_installation_date = '2020-11-29 00:00:00'). We can see in the below plot there were thus bike counts before that date). I think we should remove all the entries for this date before it started.\n",
    "\n",
    "**Actually, there are no entries before the date, so we're good**."
   ]
  },
  {
   "cell_type": "markdown",
   "id": "5fcc1872",
   "metadata": {},
   "source": [
    "## Creating 'date2' to merge with weather_conditions"
   ]
  },
  {
   "cell_type": "code",
   "execution_count": null,
   "id": "e3cec1e8",
   "metadata": {},
   "outputs": [],
   "source": [
    "df['date'] = pd.to_datetime(df['date'])\n",
    "\n",
    "# Create 'date2' column with the desired format 'YYYY-MM-DD'\n",
    "df['date2'] = df['date'].dt.strftime('%Y-%m-%d')"
   ]
  },
  {
   "cell_type": "code",
   "execution_count": 5,
   "id": "116834d7",
   "metadata": {},
   "outputs": [],
   "source": [
    "weather_conditions = pd.read_csv('weather_data_paris_daily.csv')"
   ]
  },
  {
   "cell_type": "code",
   "execution_count": 6,
   "id": "8a66e695",
   "metadata": {},
   "outputs": [],
   "source": [
    "weather_conditions.drop(axis=1, columns=['name', 'tempmax', 'tempmin', 'temp', 'dew',\n",
    "                                        'feelslikemax', 'feelslikemax', 'precipprob',\n",
    "                                        'precipcover', 'snowdepth', 'windgust', 'winddir', 'sealevelpressure',\n",
    "                                        'solarradiation', 'solarenergy', 'severerisk', 'moonphase',\n",
    "                                        'conditions', 'stations', 'description','sunrise','sunset',\n",
    "                                         'snow'], inplace=True)"
   ]
  },
  {
   "cell_type": "code",
   "execution_count": 7,
   "id": "bba8f5b5",
   "metadata": {},
   "outputs": [
    {
     "data": {
      "text/html": [
       "<div>\n",
       "<style scoped>\n",
       "    .dataframe tbody tr th:only-of-type {\n",
       "        vertical-align: middle;\n",
       "    }\n",
       "\n",
       "    .dataframe tbody tr th {\n",
       "        vertical-align: top;\n",
       "    }\n",
       "\n",
       "    .dataframe thead th {\n",
       "        text-align: right;\n",
       "    }\n",
       "</style>\n",
       "<table border=\"1\" class=\"dataframe\">\n",
       "  <thead>\n",
       "    <tr style=\"text-align: right;\">\n",
       "      <th></th>\n",
       "      <th>datetime</th>\n",
       "      <th>feelslikemin</th>\n",
       "      <th>feelslike</th>\n",
       "      <th>humidity</th>\n",
       "      <th>precip</th>\n",
       "      <th>preciptype</th>\n",
       "      <th>windspeed</th>\n",
       "      <th>cloudcover</th>\n",
       "      <th>visibility</th>\n",
       "      <th>uvindex</th>\n",
       "      <th>icon</th>\n",
       "    </tr>\n",
       "  </thead>\n",
       "  <tbody>\n",
       "    <tr>\n",
       "      <th>0</th>\n",
       "      <td>2020-09-01</td>\n",
       "      <td>11.5</td>\n",
       "      <td>16.1</td>\n",
       "      <td>63.5</td>\n",
       "      <td>0.000</td>\n",
       "      <td>NaN</td>\n",
       "      <td>13.6</td>\n",
       "      <td>50.2</td>\n",
       "      <td>25.1</td>\n",
       "      <td>6</td>\n",
       "      <td>partly-cloudy-day</td>\n",
       "    </tr>\n",
       "    <tr>\n",
       "      <th>1</th>\n",
       "      <td>2020-09-02</td>\n",
       "      <td>11.2</td>\n",
       "      <td>16.8</td>\n",
       "      <td>57.3</td>\n",
       "      <td>0.000</td>\n",
       "      <td>NaN</td>\n",
       "      <td>11.1</td>\n",
       "      <td>50.3</td>\n",
       "      <td>24.1</td>\n",
       "      <td>8</td>\n",
       "      <td>partly-cloudy-day</td>\n",
       "    </tr>\n",
       "    <tr>\n",
       "      <th>2</th>\n",
       "      <td>2020-09-03</td>\n",
       "      <td>15.3</td>\n",
       "      <td>21.3</td>\n",
       "      <td>52.2</td>\n",
       "      <td>0.000</td>\n",
       "      <td>NaN</td>\n",
       "      <td>17.2</td>\n",
       "      <td>93.0</td>\n",
       "      <td>25.6</td>\n",
       "      <td>6</td>\n",
       "      <td>cloudy</td>\n",
       "    </tr>\n",
       "    <tr>\n",
       "      <th>3</th>\n",
       "      <td>2020-09-04</td>\n",
       "      <td>18.1</td>\n",
       "      <td>23.0</td>\n",
       "      <td>55.4</td>\n",
       "      <td>0.000</td>\n",
       "      <td>NaN</td>\n",
       "      <td>15.8</td>\n",
       "      <td>53.7</td>\n",
       "      <td>25.4</td>\n",
       "      <td>7</td>\n",
       "      <td>partly-cloudy-day</td>\n",
       "    </tr>\n",
       "    <tr>\n",
       "      <th>4</th>\n",
       "      <td>2020-09-05</td>\n",
       "      <td>15.4</td>\n",
       "      <td>17.7</td>\n",
       "      <td>65.0</td>\n",
       "      <td>0.016</td>\n",
       "      <td>rain</td>\n",
       "      <td>18.3</td>\n",
       "      <td>88.1</td>\n",
       "      <td>25.0</td>\n",
       "      <td>6</td>\n",
       "      <td>rain</td>\n",
       "    </tr>\n",
       "  </tbody>\n",
       "</table>\n",
       "</div>"
      ],
      "text/plain": [
       "     datetime  feelslikemin  feelslike  humidity  precip preciptype  \\\n",
       "0  2020-09-01          11.5       16.1      63.5   0.000        NaN   \n",
       "1  2020-09-02          11.2       16.8      57.3   0.000        NaN   \n",
       "2  2020-09-03          15.3       21.3      52.2   0.000        NaN   \n",
       "3  2020-09-04          18.1       23.0      55.4   0.000        NaN   \n",
       "4  2020-09-05          15.4       17.7      65.0   0.016       rain   \n",
       "\n",
       "   windspeed  cloudcover  visibility  uvindex               icon  \n",
       "0       13.6        50.2        25.1        6  partly-cloudy-day  \n",
       "1       11.1        50.3        24.1        8  partly-cloudy-day  \n",
       "2       17.2        93.0        25.6        6             cloudy  \n",
       "3       15.8        53.7        25.4        7  partly-cloudy-day  \n",
       "4       18.3        88.1        25.0        6               rain  "
      ]
     },
     "execution_count": 7,
     "metadata": {},
     "output_type": "execute_result"
    }
   ],
   "source": [
    "weather_conditions.head()"
   ]
  },
  {
   "cell_type": "markdown",
   "id": "e1458cae",
   "metadata": {},
   "source": [
    "## remove: cloudcover, precip, visibility, is_lockdown_encoded, windspeed, uvindex, Weekday_sin, Weekday_cos, sunlight_encoded, Year, is_holiday_encoded. "
   ]
  },
  {
   "cell_type": "code",
   "execution_count": null,
   "id": "5ef7d071",
   "metadata": {},
   "outputs": [],
   "source": [
    "merged_df = pd.merge(df, weather_conditions, left_on='date2', right_on='datetime', how='left')"
   ]
  },
  {
   "cell_type": "code",
   "execution_count": null,
   "id": "5590da5a",
   "metadata": {},
   "outputs": [],
   "source": [
    "merged_df = merged_df.drop(axis=1, columns=['counter_id', 'counter_name', 'site_name', 'site_id', 'bike_count', 'date',\n",
    "                                            'counter_installation_date', 'counter_technical_id', 'icon',\n",
    "                                            'date2', 'datetime', 'feelslikemin', 'Hour', 'Weekday', 'coordinates',\n",
    "                                            'season', 'preciptype', 'cloudcover', 'precip', 'visibility'\n",
    "                                            , 'windspeed', 'uvindex', 'Weekday', 'sunlight', 'Year',\n",
    "                                           'is_holiday'])"
   ]
  },
  {
   "cell_type": "code",
   "execution_count": null,
   "id": "1b49fdc2",
   "metadata": {},
   "outputs": [],
   "source": [
    "merged_df.nunique()"
   ]
  },
  {
   "cell_type": "code",
   "execution_count": null,
   "id": "dc5406d1",
   "metadata": {},
   "outputs": [],
   "source": [
    "numerical_features = ['feelslike', 'humidity','Hour_sin', 'Hour_cos', 'latitude', 'longitude']\n",
    "\n",
    "categorical_features = ['Year', 'Month', 'Day']\n",
    "\n",
    "categorical_features_label = ['Is_weekend']"
   ]
  },
  {
   "cell_type": "markdown",
   "id": "9ec80081",
   "metadata": {},
   "source": [
    "## StandardScaler() for numerical values"
   ]
  },
  {
   "cell_type": "code",
   "execution_count": null,
   "id": "b0695fe6",
   "metadata": {},
   "outputs": [],
   "source": [
    "scaler = StandardScaler()\n",
    "\n",
    "# Fit and transform the selected columns\n",
    "scaled_columns = scaler.fit_transform(merged_df[numerical_features])\n",
    "\n",
    "# Create a DataFrame with the scaled data\n",
    "scaled_df = pd.DataFrame(scaled_columns, columns=numerical_features)\n",
    "\n",
    "# Replace the original columns with the scaled values in the original DataFrame\n",
    "merged_df[numerical_features] = scaled_df"
   ]
  },
  {
   "cell_type": "markdown",
   "id": "53a6b3a5",
   "metadata": {},
   "source": [
    "## One hot encoding"
   ]
  },
  {
   "cell_type": "code",
   "execution_count": null,
   "id": "447d9519",
   "metadata": {},
   "outputs": [],
   "source": [
    "#columns_to_encode = merged_df[categorical_features_one_hot]\n",
    "\n",
    "#ohe = OneHotEncoder(handle_unknown='ignore')\n",
    "\n",
    "# Fit and transform the selected columns\n",
    "#one_hot_encoded = ohe.fit_transform(columns_to_encode)\n",
    "\n",
    "#one_hot_df = pd.DataFrame(one_hot_encoded.toarray(), columns=ohe.get_feature_names_out(categorical_features_one_hot))\n",
    "\n",
    "# Concatenate the one-hot encoded columns with the original DataFrame\n",
    "#merged_df = pd.concat([merged_df, one_hot_df], axis=1)\n",
    "\n",
    "# Drop the original categorical columns as they are now one-hot encoded\n",
    "#merged_df.drop(categorical_features_one_hot, axis=1, inplace=True)"
   ]
  },
  {
   "cell_type": "markdown",
   "id": "2076a6aa",
   "metadata": {},
   "source": [
    "## Label encoding"
   ]
  },
  {
   "cell_type": "code",
   "execution_count": null,
   "id": "e885f91f",
   "metadata": {},
   "outputs": [],
   "source": [
    "label_encoder = LabelEncoder()\n",
    "\n",
    "# Apply LabelEncoder to the selected columns\n",
    "for feature in categorical_features_label:\n",
    "    merged_df[feature + '_encoded'] = label_encoder.fit_transform(merged_df[feature])\n",
    "\n",
    "# Drop the original categorical columns as they are now label encoded\n",
    "merged_df.drop(categorical_features_label, axis=1, inplace=True)\n"
   ]
  },
  {
   "cell_type": "markdown",
   "id": "d411df15",
   "metadata": {},
   "source": [
    "## Applying exact same preprocessing to X_test"
   ]
  },
  {
   "cell_type": "code",
   "execution_count": null,
   "id": "c6253d7a",
   "metadata": {},
   "outputs": [],
   "source": [
    "X_test = pd.read_parquet('final_test.parquet')"
   ]
  },
  {
   "cell_type": "code",
   "execution_count": null,
   "id": "1cb48209",
   "metadata": {},
   "outputs": [],
   "source": [
    "X_test['date'] = pd.to_datetime(X_test['date'])\n",
    "\n",
    "# Extracting Year, Month, Day of Month, Weekday, and Hour into separate columns\n",
    "X_test['Year'] = X_test['date'].dt.year\n",
    "X_test['Month'] = X_test['date'].dt.month\n",
    "X_test['Day'] = X_test['date'].dt.day\n",
    "X_test['Weekday'] = X_test['date'].dt.weekday  # Monday=0, Sunday=6\n",
    "X_test['Is_weekend'] = X_test['date'].dt.weekday // 5  # 1 if weekend, 0 if weekday\n",
    "X_test['Hour'] = X_test['date'].dt.hour\n",
    "\n",
    "# Define the location (Paris, for example)\n",
    "city = LocationInfo(\"Paris\", \"France\", \"Europe/Paris\")\n",
    "tz = pytz.timezone(city.timezone)\n",
    "\n",
    "# Function to determine sunlight based on sunrise and sunset times\n",
    "def is_daytime(date):\n",
    "    date = date.replace(tzinfo=tz)  # Make the date timezone-aware\n",
    "    s = sun(city.observer, date=date)\n",
    "    sunrise = s['sunrise'].astimezone(tz)\n",
    "    sunset = s['sunset'].astimezone(tz)\n",
    "    return sunrise < date < sunset\n",
    "\n",
    "# Apply the function to create a 'sunlight' column\n",
    "X_test['sunlight'] = X_test['date'].apply(is_daytime).astype(int)\n",
    "\n",
    "\n",
    "# Function to determine the season based on month\n",
    "def get_season(month):\n",
    "    if month in range(3, 6):  # Spring: March - May\n",
    "        return 'Spring'\n",
    "    elif month in range(6, 9):  # Summer: June - August\n",
    "        return 'Summer'\n",
    "    elif month in range(9, 12):  # Autumn: September - November\n",
    "        return 'Autumn'\n",
    "    else:  # Winter: December - February\n",
    "        return 'Winter'\n",
    "\n",
    "# Define holidays for a specific country (France in this example)\n",
    "fr_holidays = holidays.France()\n",
    "\n",
    "# Function to check if a date is a holiday\n",
    "def is_holiday(date):\n",
    "    return date in fr_holidays\n",
    "\n",
    "# Apply the functions to create 'season' and 'is_holiday' columns\n",
    "X_test['season'] = X_test['date'].dt.month.apply(get_season)\n",
    "X_test['is_holiday'] = X_test['date'].apply(is_holiday).astype(int)\n",
    "\n",
    "\n",
    "# Define the periods of curfew and lockdown\n",
    "curfew_periods = [\n",
    "    ('2020-10-17', '2020-10-29', '21:00', '06:00'),\n",
    "    ('2020-10-30', '2020-12-15', '00:00', '23:59'),\n",
    "    ('2020-12-15', '2021-05-19', '18:00', '06:00'),\n",
    "    ('2021-05-19', '2021-06-20', '21:00', '06:00')\n",
    "]\n",
    "\n",
    "# Create a function to check if a date is within a curfew period\n",
    "def is_within_curfew(date):\n",
    "    for start, end, start_time, end_time in curfew_periods:\n",
    "        start = pd.to_datetime(start)\n",
    "        end = pd.to_datetime(end)\n",
    "        start_time = pd.to_datetime(start_time).time()\n",
    "        end_time = pd.to_datetime(end_time).time()\n",
    "\n",
    "        if start <= date <= end:\n",
    "            if start.time() == end.time():\n",
    "                return date.time() >= start_time or date.time() <= end_time\n",
    "            else:\n",
    "                return start_time <= date.time() <= end_time\n",
    "    return False\n",
    "\n",
    "# Apply the function to create 'is_lockdown' column\n",
    "#X_test['is_lockdown'] = X_test['date'].apply(is_within_curfew).astype(int)\n",
    "\n",
    "X_test = encode(X_test, 'Hour', 23)\n",
    "# X_test = encode(X_test, 'Month', 12)\n",
    "# X_test = encode(X_test, 'Day', 31)\n",
    "# X_test = encode(X_test, 'Weekday', 6)\n",
    "# X_test = encode(X_test, 'Is_weekend', 1)\n",
    "# X_test = encode(X_test, 'sunlight', 1)\n",
    "\n",
    "\n",
    "# Create 'date2' column with the desired format 'YYYY-MM-DD'\n",
    "X_test['date2'] = X_test['date'].dt.strftime('%Y-%m-%d')\n",
    "\n",
    "merged_X_test = pd.merge(X_test, weather_conditions, left_on='date2', right_on='datetime', how='left')\n",
    "\n",
    "merged_X_test = merged_X_test.drop(axis=1, columns=['counter_id', 'counter_name', 'site_name', 'site_id', 'date',\n",
    "                                            'counter_installation_date', 'counter_technical_id',\n",
    "                                            'date2', 'datetime', 'feelslikemin', 'cloudcover', 'precip', 'visibility',\n",
    "                                            'Hour', 'Weekday', 'coordinates', 'icon', 'season', 'preciptype',\n",
    "                                              'windspeed', 'uvindex', 'Weekday', 'sunlight', 'Year',\n",
    "                                                   'is_holiday'])\n",
    "\n",
    "\n",
    "#Scaling\n",
    "\n",
    "# Fit and transform the selected columns\n",
    "scaled_columns = scaler.fit_transform(merged_X_test[numerical_features])\n",
    "\n",
    "# Create a DataFrame with the scaled data\n",
    "scaled_X_test = pd.DataFrame(scaled_columns, columns=numerical_features)\n",
    "\n",
    "# Replace the original columns with the scaled values in the original DataFrame\n",
    "merged_X_test[numerical_features] = scaled_X_test\n",
    "\n",
    "#Encoding One Hot \n",
    "\n",
    "#columns_to_encode = merged_X_test[categorical_features_one_hot]\n",
    "\n",
    "#ohe = OneHotEncoder(handle_unknown='ignore')\n",
    "\n",
    "# Fit and transform the selected columns\n",
    "#one_hot_encoded = ohe.fit_transform(columns_to_encode)\n",
    "\n",
    "#one_hot_X_test = pd.DataFrame(one_hot_encoded.toarray(), columns=ohe.get_feature_names_out(categorical_features_one_hot))\n",
    "\n",
    "# Concatenate the one-hot encoded columns with the original DataFrame\n",
    "#merged_X_test = pd.concat([merged_X_test, one_hot_X_test], axis=1)\n",
    "\n",
    "# Drop the original categorical columns as they are now one-hot encoded\n",
    "#merged_X_test.drop(categorical_features_one_hot, axis=1, inplace=True)\n",
    "\n",
    "#Encoding Label\n",
    "\n",
    "# Apply LabelEncoder to the selected columns\n",
    "for feature in categorical_features_label:\n",
    "    merged_X_test[feature + '_encoded'] = label_encoder.fit_transform(merged_X_test[feature])\n",
    "\n",
    "# Drop the original categorical columns as they are now label encoded\n",
    "merged_X_test.drop(categorical_features_label, axis=1, inplace=True)"
   ]
  },
  {
   "cell_type": "code",
   "execution_count": null,
   "id": "74dd9575",
   "metadata": {},
   "outputs": [],
   "source": [
    "# Assuming 'X_train' is your training set and 'y_train' is the corresponding target\n",
    "X_train = merged_df.drop('log_bike_count', axis=1)  # Features\n",
    "y_train = merged_df['log_bike_count']  # Target\n",
    "\n",
    "# Assuming 'X_test' is your test set\n",
    "X_test = merged_X_test  # Features\n",
    "\n",
    "# Initialize XGBoost model\n",
    "model = XGBRegressor()\n",
    "\n",
    "# Fit the model on the training data\n",
    "model.fit(X_train, y_train)\n",
    "\n",
    "# Predict on the training set\n",
    "y_pred_train = model.predict(X_train)\n",
    "\n",
    "y_pred_test = model.predict(X_test)\n",
    "\n",
    "pred_df = pd.DataFrame({'Id': X_test.index, 'log_bike_count': y_pred_test})\n",
    "\n",
    "pred_df.to_csv('submission.csv', index=False)\n",
    "\n",
    "# Calculate RMSE on the training set\n",
    "train_rmse = np.sqrt(mean_squared_error(y_train, y_pred_train))\n",
    "print(f\"Train RMSE: {train_rmse}\")"
   ]
  },
  {
   "cell_type": "code",
   "execution_count": null,
   "id": "9cda85dc",
   "metadata": {},
   "outputs": [],
   "source": [
    "from xgboost import plot_importance\n",
    "plot_importance(model)\n",
    "plt.show()"
   ]
  },
  {
   "cell_type": "markdown",
   "id": "ae8eb2d3",
   "metadata": {},
   "source": [
    "remove: cloudcover, precip, visibility, is_lockdown_encoded, windspeed, uvindex, Weekday_sin, Weekday_cos, sunlight_encoded, Year, is_holiday_encoded. "
   ]
  },
  {
   "cell_type": "code",
   "execution_count": null,
   "id": "76443dee",
   "metadata": {},
   "outputs": [],
   "source": [
    "model.fit(X_train, y_train)\n",
    "pred = model.predict(X_test)\n",
    "\n",
    "pred_df = pd.DataFrame({'Id': X_test.index,\n",
    "                        'log_bike_count': pred})\n",
    "\n",
    "pred_df.to_csv('submission.csv', index=False)"
   ]
  },
  {
   "cell_type": "code",
   "execution_count": null,
   "id": "d055b0a3",
   "metadata": {},
   "outputs": [],
   "source": [
    "from catboost import CatBoostRegressor\n",
    "from sklearn.metrics import mean_squared_error\n",
    "import numpy as np\n",
    "\n",
    "# Assuming 'X_train' is your training set and 'y_train' is the corresponding target\n",
    "X_train = merged_df.drop('log_bike_count', axis=1)  # Features\n",
    "y_train = merged_df['log_bike_count']  # Target\n",
    "\n",
    "# Assuming 'X_test' is your test set\n",
    "X_test = merged_X_test  # Features\n",
    "\n",
    "# Initialize CatBoost model\n",
    "model_catboost = CatBoostRegressor()\n",
    "\n",
    "# Fit the model on the training data\n",
    "model_catboost.fit(X_train, y_train)\n",
    "\n",
    "# Predict on the training set\n",
    "y_pred_train_catboost = model_catboost.predict(X_train)\n",
    "\n",
    "# Calculate RMSE on the training set\n",
    "train_rmse_catboost = np.sqrt(mean_squared_error(y_train, y_pred_train_catboost))\n",
    "print(f\"Train RMSE - CatBoost: {train_rmse_catboost}\")\n",
    "\n",
    "y_pred_test = model_catboost.predict(X_test)\n",
    "\n",
    "pred_df = pd.DataFrame({'Id': X_test.index, 'log_bike_count': y_pred_test})\n",
    "\n",
    "pred_df.to_csv('submission.csv', index=False)"
   ]
  },
  {
   "cell_type": "code",
   "execution_count": null,
   "id": "c27690d3",
   "metadata": {},
   "outputs": [],
   "source": []
  },
  {
   "cell_type": "code",
   "execution_count": null,
   "id": "9bc82f03",
   "metadata": {},
   "outputs": [],
   "source": []
  },
  {
   "cell_type": "code",
   "execution_count": null,
   "id": "70135a68",
   "metadata": {},
   "outputs": [],
   "source": []
  },
  {
   "cell_type": "code",
   "execution_count": null,
   "id": "4c577fc6",
   "metadata": {},
   "outputs": [],
   "source": [
    "bike_counts_by_site = df.groupby('site_id')['bike_count'].sum()\n",
    "\n",
    "# Plotting\n",
    "plt.figure(figsize=(10, 6))\n",
    "bike_counts_by_site.plot(kind='bar')\n",
    "plt.title('Bike Count by Site ID')\n",
    "plt.xlabel('Site ID')\n",
    "plt.ylabel('Bike Count')\n",
    "plt.xticks(rotation=45)\n",
    "plt.tight_layout()\n",
    "plt.show()"
   ]
  },
  {
   "cell_type": "markdown",
   "id": "af5afcbd",
   "metadata": {},
   "source": [
    "29,904,750 bikes in total"
   ]
  },
  {
   "cell_type": "code",
   "execution_count": null,
   "id": "40cc344b",
   "metadata": {},
   "outputs": [],
   "source": [
    "df['bike_count'].sum()"
   ]
  },
  {
   "cell_type": "code",
   "execution_count": null,
   "id": "e7722623",
   "metadata": {},
   "outputs": [],
   "source": []
  },
  {
   "cell_type": "code",
   "execution_count": null,
   "id": "a195c50a",
   "metadata": {},
   "outputs": [],
   "source": [
    "counter_counts = df.groupby('counter_name')['bike_count'].sum().reset_index().sort_values('bike_count', ascending=False)\n",
    "\n",
    "print(counter_counts.head(10))"
   ]
  },
  {
   "cell_type": "code",
   "execution_count": null,
   "id": "1d3d901c",
   "metadata": {},
   "outputs": [],
   "source": [
    "sns.boxplot(x=df['bike_count'])\n",
    "\n",
    "plt.title('Box Plot of Bike Count')\n",
    "plt.xlabel('Bike Count')\n",
    "plt.show()"
   ]
  },
  {
   "cell_type": "code",
   "execution_count": null,
   "id": "c2a3471b",
   "metadata": {},
   "outputs": [],
   "source": [
    "ext = pd.read_csv('external_data.csv')"
   ]
  },
  {
   "cell_type": "code",
   "execution_count": null,
   "id": "e1781734",
   "metadata": {},
   "outputs": [],
   "source": [
    "ext.info()"
   ]
  }
 ],
 "metadata": {
  "kernelspec": {
   "display_name": "Python 3 (ipykernel)",
   "language": "python",
   "name": "python3"
  },
  "language_info": {
   "codemirror_mode": {
    "name": "ipython",
    "version": 3
   },
   "file_extension": ".py",
   "mimetype": "text/x-python",
   "name": "python",
   "nbconvert_exporter": "python",
   "pygments_lexer": "ipython3",
   "version": "3.11.5"
  }
 },
 "nbformat": 4,
 "nbformat_minor": 5
}
